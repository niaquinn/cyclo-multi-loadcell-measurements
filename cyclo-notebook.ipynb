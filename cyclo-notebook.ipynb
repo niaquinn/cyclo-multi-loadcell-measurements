{
 "cells": [
  {
   "cell_type": "code",
   "execution_count": 1,
   "id": "e1830938",
   "metadata": {},
   "outputs": [
    {
     "name": "stdout",
     "output_type": "stream",
     "text": [
      "Requirement already satisfied: arduino-python3 in c:\\users\\niaaq\\anaconda3\\lib\\site-packages (0.6)\n",
      "Requirement already satisfied: pyserial in c:\\users\\niaaq\\anaconda3\\lib\\site-packages (from arduino-python3) (3.5)\n",
      "Note: you may need to restart the kernel to use updated packages.\n"
     ]
    }
   ],
   "source": [
    "pip install arduino-python3"
   ]
  },
  {
   "cell_type": "code",
   "execution_count": 3,
   "id": "f1b1a220",
   "metadata": {},
   "outputs": [],
   "source": [
    "from Arduino import arduino\n",
    "import time"
   ]
  },
  {
   "cell_type": "code",
   "execution_count": null,
   "id": "22ea89c5",
   "metadata": {},
   "outputs": [],
   "source": [
    "# asssigning pin constants\n",
    "HX711_sck_1 = 19\n",
    "HX711_sck_2 = 19\n",
    "HX711_sck_3 = 19\n",
    "HX711_sck_4 = 19\n",
    "\n",
    "HX711_dout_1 = 7\n",
    "HX711_dout_2 = 6\n",
    "HX711_dout_3 = 5\n",
    "HX711_dout_4 = 4"
   ]
  }
 ],
 "metadata": {
  "kernelspec": {
   "display_name": "Python 3 (ipykernel)",
   "language": "python",
   "name": "python3"
  },
  "language_info": {
   "codemirror_mode": {
    "name": "ipython",
    "version": 3
   },
   "file_extension": ".py",
   "mimetype": "text/x-python",
   "name": "python",
   "nbconvert_exporter": "python",
   "pygments_lexer": "ipython3",
   "version": "3.9.13"
  }
 },
 "nbformat": 4,
 "nbformat_minor": 5
}
